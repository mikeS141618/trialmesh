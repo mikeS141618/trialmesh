{
 "cells": [
  {
   "cell_type": "markdown",
   "id": "5c0a6c28-498d-40d6-98c4-f3397e14a39e",
   "metadata": {},
   "source": [
    "## **Notebook Summary**\n",
    "\n",
    "### **Purpose**\n",
    "This notebook evaluates and visualizes the performance of a clinical trial-patient matching system (\"trial_matches.json\"), comparing system-assigned trial suitability verdicts against curated gold-standard labels.\n",
    "\n",
    "---\n",
    "\n",
    "### **Key Steps and Logic**\n",
    "\n",
    "#### **1. Data Loading**\n",
    "- Loads:\n",
    "  - **Gold/reference** patient-trial pairs and scores from `test.tsv`.\n",
    "  - **Patient queries** and **trial corpus** from `queries.jsonl` and `corpus.jsonl`.\n",
    "  - **Trial matches** (detailed matching outputs) from `matched/trial_matches.json` (contains verdicts, reasoning about inclusion/exclusion).\n",
    "\n",
    "#### **2. Flatten & Normalize Trial Matches**\n",
    "- Iterates through `trial_matches.json` to **flatten nested structures** into a DataFrame:\n",
    "  - Columns include: `query-id`, `corpus-id`, model trial verdict (`match_verdict`), reasoning, inclusion/exclusion flags, and detailed eligibility explanations.\n",
    "\n",
    "#### **3. Merge Gold with System Predictions**\n",
    "- Merges gold-standard pairs (`df_tsv`) with matched verdicts (`df_trial_matches`) by query and trial IDs.\n",
    "- Ensures **all gold pairs are present**, filling unmatched ones with NaN for later filtering/checks.\n",
    "\n",
    "#### **4. Label Harmonization**\n",
    "- Maps system verdicts (“STRONG MATCH”, “POSSIBLE MATCH”, “WEAK MATCH”, “UNSUITABLE”) into numeric label space {0, 1, 2} for comparison:\n",
    "  - 2: Highly likely (\"STRONG MATCH\" or \"POSSIBLE MATCH\")\n",
    "  - 1: Would consider (\"WEAK MATCH\")\n",
    "  - 0: Would not refer (\"UNSUITABLE\")\n",
    "- Aligns ground-truth labels from gold file into the same space.\n",
    "\n",
    "#### **5. Evaluation**\n",
    "- **Omissions:** Reports count/samples of pairs where there is no system verdict (excluded from scoring).\n",
    "- **Metrics:**\n",
    "  - Computes **confusion matrix** (tabular and heatmap) to visualize agreement.\n",
    "  - Calculates **macro-averaged F1 score** and displays a full classification report (precision/recall per label).\n",
    "- **Visualization:** Plots the confusion matrix with Seaborn for a clear model performance summary.\n",
    "\n",
    "#### **6. Inspection & Quality Control**\n",
    "- Provides options to display merged/evaluated DataFrame (with explanations/reasoning), as well as any omitted/missing rows.\n",
    "\n",
    "#### **7. Display/Output**\n",
    "- Configures pandas for wide displays, allowing direct inspection of large slices of merged data and reasoning fields.\n",
    "\n",
    "---\n",
    "\n",
    "### **Outputs**\n",
    "- **Metrics for Model QA:** Confusion matrix, macro F1, precision/recall for each decision level.\n",
    "- **Visualization:** Color-coded confusion matrix heatmap for rapid error pattern assessment.\n",
    "- **Inspection:** Full merged DataFrame can be displayed, supporting qualitative analysis via system reasoning and verdicts.\n",
    "\n",
    "---\n",
    "\n",
    "### **Intended Use**\n",
    "- **Model validation and debugging:** Evaluate system-patient-to-trial assignment quality.\n",
    "- **Insight into errors:** Directly reveals misclassifications and their reasoning by exploring DataFrame rows.\n",
    "- **Transparent reporting:** Well-suited for sharing system strengths and weaknesses with stakeholders or during clinical IR system development.\n",
    "\n",
    "---\n",
    "\n",
    "### **Technical/Architectural Notes**\n",
    "- **Robust merging:** Ensures all reference pairs are considered, not just those found by the matcher.\n",
    "- **Extendable:** Can be easily fit for other datasets or more granular scoring/justification analysis.\n",
    "- **User-friendly:** Designed for rapid exploratory analysis, including straightforward displays for both summary and raw data."
   ]
  },
  {
   "cell_type": "code",
   "execution_count": null,
   "id": "9b4bc6bd-3d60-4b6e-b235-2a91198a95ff",
   "metadata": {},
   "outputs": [],
   "source": [
    "import os\n",
    "import json\n",
    "import pandas as pd\n",
    "import numpy as np"
   ]
  },
  {
   "cell_type": "code",
   "execution_count": null,
   "id": "2b578399-33aa-4778-9b7b-0150dec85176",
   "metadata": {},
   "outputs": [],
   "source": [
    "# Set pandas display options \n",
    "pd.set_option('display.max_rows', 5)\n",
    "pd.set_option('display.max_columns', None)\n",
    "pd.set_option('display.width', None)\n",
    "pd.set_option('display.max_colwidth', 400)"
   ]
  },
  {
   "cell_type": "code",
   "execution_count": null,
   "id": "9c9b3ce4-6e39-4cd9-a909-b97c9e337fa5",
   "metadata": {},
   "outputs": [],
   "source": [
    "import os\n",
    "import pandas as pd\n",
    "import json\n",
    "\n",
    "# Set up paths\n",
    "DATA_DIR = \"../data/sigir2016/processed_cut\"\n",
    "MATCHED_DIR = \"../data/sigir2016/matched\"\n",
    "\n",
    "TSV_FILE = os.path.join(DATA_DIR, \"test.tsv\")\n",
    "QUERIES_FILE = os.path.join(DATA_DIR, \"queries.jsonl\")\n",
    "CORPUS_FILE = os.path.join(DATA_DIR, \"corpus.jsonl\")\n",
    "TRIAL_MATCHES_FILE = os.path.join(MATCHED_DIR, \"trial_matches.json\")\n",
    "\n",
    "# Load main input data\n",
    "df_tsv = pd.read_csv(TSV_FILE, sep='\\t')\n",
    "df_queries = pd.read_json(QUERIES_FILE, lines=True)\n",
    "df_corpus = pd.read_json(CORPUS_FILE, lines=True)"
   ]
  },
  {
   "cell_type": "code",
   "execution_count": null,
   "id": "64e1a52e-187d-4d4a-bd39-0747a64c0acb",
   "metadata": {},
   "outputs": [],
   "source": [
    "print(f\" df_tsv {len(df_tsv)} df_queries {len(df_queries)} df_corpus {len(df_corpus)}\")"
   ]
  },
  {
   "cell_type": "code",
   "execution_count": null,
   "id": "31a1c1a7-8150-479c-b509-3e81576719e5",
   "metadata": {},
   "outputs": [],
   "source": [
    "# Glimpse at dataframes:\n",
    "display(df_tsv.head())\n",
    "display(df_queries.head())\n",
    "display(df_corpus.head())\n",
    "# display(trial_matches_long.head())\n",
    "\n",
    "# ---- Now you can proceed with analysis & evaluation below!"
   ]
  },
  {
   "cell_type": "code",
   "execution_count": null,
   "id": "02d61765-bdb5-4a1c-a168-b6bdad4841b2",
   "metadata": {},
   "outputs": [],
   "source": [
    "TRIAL_MATCHES_FILE = os.path.join(MATCHED_DIR, \"trial_matches.json\")\n",
    "\n",
    "# Load the JSON as a list of dicts\n",
    "with open(TRIAL_MATCHES_FILE, \"r\") as f:\n",
    "    trial_matches = json.load(f)\n",
    "\n",
    "# Flattening loop\n",
    "records = []\n",
    "for patient_dict in trial_matches:\n",
    "    patient_id = patient_dict['patient_id']\n",
    "    for eval_ in patient_dict['trial_evaluations']:\n",
    "        trial_id = eval_['trial_id']\n",
    "        trial_title = eval_.get('trial_title')\n",
    "        scoring = eval_.get('scoring_result', {})\n",
    "        inclusion = eval_.get('inclusion_result', {})\n",
    "        exclusion = eval_.get('exclusion_result', {})\n",
    "        records.append({\n",
    "            'query-id': patient_id,\n",
    "            'corpus-id': trial_id,\n",
    "            'trial_title': trial_title,\n",
    "            # From scoring_result\n",
    "            'score': scoring.get('score'),\n",
    "            'match_verdict': scoring.get('verdict'),\n",
    "            'match_reasoning': scoring.get('reasoning'),\n",
    "            # From exclusion_result\n",
    "            'exclusion_verdict': exclusion.get('verdict'),\n",
    "            'exclusion_reason': exclusion.get('reason'),\n",
    "            # From inclusion_result\n",
    "            'inclusion_verdict': inclusion.get('verdict'),\n",
    "            'inclusion_missing_info': inclusion.get('missing_information'),\n",
    "            'inclusion_unmet_criteria': inclusion.get('unmet_criteria'),\n",
    "            'inclusion_reasoning': inclusion.get('reasoning'),\n",
    "        })\n",
    "\n",
    "# Create DataFrame\n",
    "df_trial_matches = pd.DataFrame(records)\n",
    "\n",
    "# Preview\n",
    "# pd.set_option('display.max_colwidth', 200)\n",
    "# display(df_trial_matches.head())"
   ]
  },
  {
   "cell_type": "raw",
   "id": "29536e40-c00f-491e-9eaf-693a2c01a8b3",
   "metadata": {},
   "source": [
    "df_trial_matches"
   ]
  },
  {
   "cell_type": "raw",
   "id": "3c1b96ce-0822-4d41-bf54-cdc64051479b",
   "metadata": {},
   "source": [
    "df_trial_matches[(df_trial_matches[\"match_verdict\"].isna())]"
   ]
  },
  {
   "cell_type": "code",
   "execution_count": null,
   "id": "d392cc36-4b7b-4131-807c-0d879aa4e228",
   "metadata": {},
   "outputs": [],
   "source": [
    "df_trial_matches['score'] = df_trial_matches['score'].fillna(0)\n",
    "df_trial_matches['match_verdict'] = df_trial_matches['match_verdict'].fillna(\"WOULD NOT REFER\")"
   ]
  },
  {
   "cell_type": "code",
   "execution_count": null,
   "id": "57cfb946-ff3b-4f43-9f42-b1eb68679402",
   "metadata": {},
   "outputs": [],
   "source": [
    "len(df_trial_matches)"
   ]
  },
  {
   "cell_type": "code",
   "execution_count": null,
   "id": "1670569c-db7c-4ade-a980-98e8e973d0b3",
   "metadata": {},
   "outputs": [],
   "source": [
    "# df_tsv: gold/reference pairs\n",
    "# df_trial_matches: detailed match+reasoning info from trial_matches.json\n",
    "\n",
    "# Merge, keeping all gold standard pairs and including trial_matches info when available:\n",
    "merged_df = df_tsv.merge(df_trial_matches, on=['query-id', 'corpus-id'], how='left')"
   ]
  },
  {
   "cell_type": "code",
   "execution_count": null,
   "id": "afcd64e3-f389-451f-ace3-b0dc3ab8bb12",
   "metadata": {},
   "outputs": [],
   "source": [
    "# 1. Merge queries info (like 'text') into merged_df\n",
    "merged_df = merged_df.merge(\n",
    "    df_queries.rename(columns={'_id': 'query-id'}),\n",
    "    on='query-id',\n",
    "    how='left'\n",
    ")\n",
    "\n",
    "# 2. Merge corpus info (like 'title', 'metadata') into merged_df\n",
    "merged_df = merged_df.merge(\n",
    "    df_corpus.rename(columns={'_id': 'corpus-id'}),\n",
    "    on='corpus-id',\n",
    "    how='left'\n",
    ")\n",
    "# Drop the 'title' column\n",
    "merged_df = merged_df.drop(columns=['title'])"
   ]
  },
  {
   "cell_type": "raw",
   "id": "9b035a51-b628-4a89-851d-703c09ae0d50",
   "metadata": {},
   "source": [
    "display(merged_df)"
   ]
  },
  {
   "cell_type": "raw",
   "id": "aaa2f526-f2c9-4dc9-8a4b-4df63d0386b8",
   "metadata": {},
   "source": [
    "labels = [0, 1, 2]\n",
    "label_names = [\n",
    "    \"0) Would not refer\",\n",
    "    \"1) Would consider referral\",\n",
    "    \"2) Highly likely to refer\"\n",
    "]"
   ]
  },
  {
   "cell_type": "code",
   "execution_count": null,
   "id": "342f05a5-1148-40bb-8b62-987eee1ee51f",
   "metadata": {},
   "outputs": [],
   "source": [
    "import matplotlib.pyplot as plt\n",
    "import seaborn as sns\n",
    "from sklearn.metrics import confusion_matrix, f1_score, classification_report\n",
    "import pandas as pd\n",
    "\n",
    "verdict_map = {\n",
    "    \"HIGHLY LIKELY TO REFER\": 2,\n",
    "    \"WOULD CONSIDER REFERRAL\": 1,\n",
    "    \"WOULD NOT REFER\": 0,\n",
    "    \"None\": 0,\n",
    "}\n",
    "\n",
    "merged_df['predicted_label'] = merged_df['match_verdict'].map(verdict_map)#.fillna(0).astype(int)\n",
    "merged_df['true_label'] = merged_df['score_x']\n",
    "\n",
    "labels = [0, 1, 2]\n",
    "label_names = [\n",
    "    \"0) WOULD NOT REFER\",\n",
    "    \"1) WOULD CONSIDER REFERRAL\",\n",
    "    \"2) HIGHLY LIKELY TO REFER\"\n",
    "]\n",
    "\n",
    "n_missing = merged_df['match_verdict'].isna().sum()\n",
    "print(f\"Rows with missing match_verdict (excluded from evaluation): {n_missing}\")\n",
    "\n",
    "eval_df = merged_df[~merged_df['predicted_label'].isna() & ~merged_df['true_label'].isna()]\n",
    "y_true = eval_df['true_label'].astype(int)\n",
    "y_pred = eval_df['predicted_label'].astype(int)\n",
    "\n",
    "cm = confusion_matrix(y_true, y_pred, labels=labels)\n",
    "f1 = f1_score(y_true, y_pred, labels=labels, average='macro')\n",
    "\n",
    "print(\"\\nConfusion matrix (table):\\n\")\n",
    "cm_df = pd.DataFrame(cm, index=label_names, columns=label_names)\n",
    "display(cm_df)\n",
    "\n",
    "print(\"\\nMacro F1 score: {:.4f}\".format(f1))\n",
    "print(\"\\nDetailed classification report:\\n\")\n",
    "print(classification_report(y_true, y_pred, labels=labels, target_names=label_names))\n",
    "\n",
    "# Blue Confusion Matrix Plot\n",
    "plt.figure(figsize=(8,6))\n",
    "sns.heatmap(cm_df, annot=True, fmt='d', cmap='Blues', cbar=True, linewidths=.5, square=False)\n",
    "plt.xlabel('Predicted label')\n",
    "plt.ylabel('True label')\n",
    "plt.title('Confusion Matrix')\n",
    "plt.yticks(rotation=0)\n",
    "plt.xticks(rotation=25)\n",
    "plt.tight_layout()\n",
    "plt.show()\n",
    "\n",
    "# # Show omitted rows if any\n",
    "# if n_missing > 0:\n",
    "#     print(\"\\nSample of omitted rows (no match_verdict):\")\n",
    "#     display(merged_df[merged_df['match_verdict'].isna()].head())"
   ]
  },
  {
   "cell_type": "raw",
   "id": "f05d7d45-03db-4ec3-b24c-bfcfe75e779c",
   "metadata": {},
   "source": [
    "# Set pandas display options \n",
    "pd.set_option('display.max_rows', 15)\n",
    "pd.set_option('display.max_columns', None)\n",
    "pd.set_option('display.width', None)\n",
    "pd.set_option('display.max_colwidth', None)"
   ]
  },
  {
   "cell_type": "code",
   "execution_count": null,
   "id": "e70b6426-136d-470d-98c6-9751a5a113a7",
   "metadata": {},
   "outputs": [],
   "source": [
    "# Cell 1: True label 2, prediction available\n",
    "df_true2_pred = merged_df[(merged_df[\"score_x\"] == 2) & (merged_df[\"predicted_label\"] == 0)]\n",
    "display(df_true2_pred)\n",
    "print(f\"Rows: {len(df_true2_pred)}\")"
   ]
  },
  {
   "cell_type": "code",
   "execution_count": null,
   "id": "7889a60b-5975-4a63-ace1-cb28ce3b0795",
   "metadata": {},
   "outputs": [],
   "source": [
    "# Cell 1: True label 2, prediction available\n",
    "df_true2_pred = merged_df[(merged_df[\"score_x\"] == 2) & (merged_df[\"predicted_label\"] == 2)]\n",
    "display(df_true2_pred)\n",
    "print(f\"Rows: {len(df_true2_pred)}\")"
   ]
  },
  {
   "cell_type": "code",
   "execution_count": null,
   "id": "01055732-e4cb-4532-9232-d50643a7dd04",
   "metadata": {},
   "outputs": [],
   "source": [
    "# Cell 2: True label 1, prediction available\n",
    "df_true1_pred = merged_df[(merged_df[\"score_x\"] == 1) & (merged_df[\"predicted_label\"] == 1)]\n",
    "display(df_true1_pred)\n",
    "print(f\"Rows: {len(df_true1_pred)}\")"
   ]
  },
  {
   "cell_type": "code",
   "execution_count": null,
   "id": "ad510e2f-6c00-49d0-8d6c-40abda97033c",
   "metadata": {},
   "outputs": [],
   "source": [
    "# Cell 3: True label 0, prediction available\n",
    "df_true0_pred = merged_df[(merged_df[\"score_x\"] == 0) & (merged_df[\"predicted_label\"] == 0)]\n",
    "display(df_true0_pred)\n",
    "print(f\"Rows: {len(df_true0_pred)}\")"
   ]
  },
  {
   "cell_type": "code",
   "execution_count": null,
   "id": "35dced00-e108-416a-b7c3-33505b914f2a",
   "metadata": {},
   "outputs": [],
   "source": [
    "import numpy as np\n",
    "from sklearn.metrics import f1_score, classification_report, confusion_matrix\n",
    "\n",
    "# Only use rows with non-missing score_y and score_x\n",
    "yx = merged_df.loc[(~merged_df['score_y'].isna()) & (~merged_df['score_x'].isna()), ['score_y', 'score_x']]\n",
    "score_y = yx['score_y'].values.astype(int)  # model output\n",
    "score_x = yx['score_x'].values.astype(int)  # true labels\n",
    "\n",
    "results = []\n",
    "for cut1 in range(1, 100):\n",
    "    for cut2 in range(cut1 + 1, 101):\n",
    "        preds = np.digitize(score_y, bins=[cut1, cut2])  # (0, 1, 2)\n",
    "        macro_f1 = f1_score(score_x, preds, labels=[0, 1, 2], average=\"macro\")\n",
    "        f1_1 = f1_score(score_x, preds, labels=[1], average=None)[0]\n",
    "        f1_2 = f1_score(score_x, preds, labels=[2], average=None)[0]\n",
    "        results.append({\n",
    "            \"cut1\": cut1,\n",
    "            \"cut2\": cut2,\n",
    "            \"macro_f1\": macro_f1,\n",
    "            \"f1_1\": f1_1,\n",
    "            \"f1_2\": f1_2\n",
    "        })\n",
    "\n",
    "results_df = pd.DataFrame(results)\n",
    "\n",
    "# Find maxima\n",
    "best_macro = results_df.loc[results_df['macro_f1'].idxmax()]\n",
    "best_1 = results_df.loc[results_df['f1_1'].idxmax()]\n",
    "best_2 = results_df.loc[results_df['f1_2'].idxmax()]\n"
   ]
  },
  {
   "cell_type": "code",
   "execution_count": null,
   "id": "d79abb40-7fda-44a5-b81d-50d0eb9335fa",
   "metadata": {},
   "outputs": [],
   "source": [
    "import matplotlib.pyplot as plt\n",
    "import seaborn as sns\n",
    "\n",
    "cut_labels = [\n",
    "    \"0) Would not refer\",\n",
    "    \"1) Would consider referral\",\n",
    "    \"2) Highly likely to refer\"\n",
    "]\n",
    "\n",
    "def display_results_with_plot(cut1, cut2, label, f1val):\n",
    "    preds = np.digitize(score_y, bins=[cut1, cut2])\n",
    "    print(f\"\\nBest cutpoints for {label}: cut1={cut1}, cut2={cut2}, F1={f1val:.4f}\")\n",
    "    print(classification_report(\n",
    "        score_x, preds, labels=[0, 1, 2],\n",
    "        target_names=cut_labels\n",
    "    ))\n",
    "    cm = confusion_matrix(score_x, preds, labels=[0, 1, 2])\n",
    "    cm_df = pd.DataFrame(cm, index=cut_labels, columns=cut_labels)\n",
    "    print(\"Confusion Matrix:\")\n",
    "    display(cm_df)\n",
    "\n",
    "    # Blue Confusion Matrix Plot\n",
    "    plt.figure(figsize=(8,6))\n",
    "    sns.heatmap(cm_df, annot=True, fmt='d', cmap='Blues', cbar=True, linewidths=.5, square=False)\n",
    "    plt.xlabel('Predicted label')\n",
    "    plt.ylabel('True label')\n",
    "    plt.title(f'Confusion Matrix ({label})')\n",
    "    plt.yticks(rotation=0)\n",
    "    plt.xticks(rotation=25)\n",
    "    plt.tight_layout()\n",
    "    plt.show()\n",
    "\n",
    "# Show results and blue CM for each optimal cutpoint set\n",
    "display_results_with_plot(int(best_macro.cut1), int(best_macro.cut2), \"macro F1\", best_macro.macro_f1)\n",
    "display_results_with_plot(int(best_1.cut1), int(best_1.cut2), \"score 1 (Would consider)\", best_1.f1_1)\n",
    "display_results_with_plot(int(best_2.cut1), int(best_2.cut2), \"score 2 (Highly likely)\", best_2.f1_2)"
   ]
  },
  {
   "cell_type": "code",
   "execution_count": null,
   "id": "c62de331-fcf2-42e7-b81d-17cfd5d3a1ea",
   "metadata": {},
   "outputs": [],
   "source": []
  }
 ],
 "metadata": {
  "kernelspec": {
   "display_name": "Python 3 (ipykernel)",
   "language": "python",
   "name": "python3"
  },
  "language_info": {
   "codemirror_mode": {
    "name": "ipython",
    "version": 3
   },
   "file_extension": ".py",
   "mimetype": "text/x-python",
   "name": "python",
   "nbconvert_exporter": "python",
   "pygments_lexer": "ipython3",
   "version": "3.10.16"
  }
 },
 "nbformat": 4,
 "nbformat_minor": 5
}
